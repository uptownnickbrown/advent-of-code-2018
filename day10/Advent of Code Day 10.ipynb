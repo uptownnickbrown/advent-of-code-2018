{
 "cells": [
  {
   "cell_type": "code",
   "execution_count": 1,
   "metadata": {
    "ExecuteTime": {
     "end_time": "2018-12-10T16:52:35.403818Z",
     "start_time": "2018-12-10T16:52:34.983299Z"
    }
   },
   "outputs": [],
   "source": [
    "import re\n",
    "import pandas as pd\n",
    "import math\n",
    "from itertools import combinations\n",
    "\n",
    "import matplotlib.pyplot as plt\n",
    "from pylab import rcParams\n",
    "%matplotlib inline"
   ]
  },
  {
   "cell_type": "code",
   "execution_count": 2,
   "metadata": {
    "ExecuteTime": {
     "end_time": "2018-12-10T16:52:35.413767Z",
     "start_time": "2018-12-10T16:52:35.407168Z"
    }
   },
   "outputs": [],
   "source": [
    "def extract_point(line):\n",
    "    # position=<-2,  3> velocity=< 1,  0>\n",
    "    regex = 'position=<\\s*(.*),\\s*(.*)> velocity=<\\s*(.*),\\s*(.*)>'\n",
    "    (x,y,x_vel,y_vel) = list(map(int,re.findall(regex,line)[0]))\n",
    "    return {'x':x,'y':y * -1,'x_vel':x_vel,'y_vel':y_vel * -1}"
   ]
  },
  {
   "cell_type": "code",
   "execution_count": 3,
   "metadata": {
    "ExecuteTime": {
     "end_time": "2018-12-10T16:52:35.428644Z",
     "start_time": "2018-12-10T16:52:35.423465Z"
    }
   },
   "outputs": [],
   "source": [
    "def dist(p1, p2):\n",
    "    (x1, y1), (x2, y2) = p1, p2\n",
    "    return math.sqrt((x2 - x1)**2 + (y2 - y1)**2)"
   ]
  },
  {
   "cell_type": "code",
   "execution_count": 4,
   "metadata": {
    "ExecuteTime": {
     "end_time": "2018-12-10T16:52:35.442652Z",
     "start_time": "2018-12-10T16:52:35.435651Z"
    }
   },
   "outputs": [],
   "source": [
    "def get_average_distance(point_frame):\n",
    "    x = point_frame['x'].values\n",
    "    y = point_frame['y'].values\n",
    "    points = list(zip(x,y))\n",
    "    distances = [dist(p1, p2) for p1, p2 in combinations(points, 2)]\n",
    "    avg_distance = sum(distances) / len(distances)\n",
    "    return(avg_distance)"
   ]
  },
  {
   "cell_type": "code",
   "execution_count": 5,
   "metadata": {
    "ExecuteTime": {
     "end_time": "2018-12-10T16:52:35.464737Z",
     "start_time": "2018-12-10T16:52:35.450652Z"
    }
   },
   "outputs": [],
   "source": [
    "def get_line_weight(point_frame):\n",
    "    line_weight = 0\n",
    "    for (x,count) in point_frame['x'].value_counts().iteritems():\n",
    "        if count > 3:\n",
    "            y_matches = sorted(point_frame[point_frame['x'] == x]['y'].values)\n",
    "            avg_delta = sum([abs(val - y_matches[i +1]) for (i,val) in enumerate(y_matches[:-1])]) / (len(y_matches) - 1)\n",
    "            line_weight += count / avg_delta\n",
    "\n",
    "    for (y,count) in point_frame['y'].value_counts().iteritems():\n",
    "        if count > 3:\n",
    "            x_matches = sorted(point_frame[point_frame['y'] == y]['x'].values)\n",
    "            avg_delta = sum([abs(val - x_matches[i +1]) for (i,val) in enumerate(x_matches[:-1])]) / (len(x_matches) - 1)\n",
    "            line_weight += count / avg_delta\n",
    "    return (line_weight)"
   ]
  },
  {
   "cell_type": "code",
   "execution_count": 6,
   "metadata": {
    "ExecuteTime": {
     "end_time": "2018-12-10T16:52:35.475833Z",
     "start_time": "2018-12-10T16:52:35.468971Z"
    }
   },
   "outputs": [],
   "source": [
    "def update_point_locations(point_frame,multiplier=1):\n",
    "    point_frame['x'] = point_frame['x'] + point_frame['x_vel'] * multiplier\n",
    "    point_frame['y'] = point_frame['y'] + point_frame['y_vel'] * multiplier"
   ]
  },
  {
   "cell_type": "code",
   "execution_count": 7,
   "metadata": {
    "ExecuteTime": {
     "end_time": "2018-12-10T16:52:35.493444Z",
     "start_time": "2018-12-10T16:52:35.483914Z"
    }
   },
   "outputs": [],
   "source": [
    "def plot_points(point_frame):\n",
    "    rcParams['figure.figsize'] = 18, 3\n",
    "    plt.close()\n",
    "    plt.scatter(point_frame['x'], point_frame['y'])"
   ]
  },
  {
   "cell_type": "code",
   "execution_count": 8,
   "metadata": {
    "ExecuteTime": {
     "end_time": "2018-12-10T16:52:38.130651Z",
     "start_time": "2018-12-10T16:52:35.501284Z"
    },
    "scrolled": false
   },
   "outputs": [
    {
     "name": "stdout",
     "output_type": "stream",
     "text": [
      "Answer 1:\n"
     ]
    },
    {
     "data": {
      "image/png": "[encoded data removed]",
      "text/plain": [
       "<matplotlib.figure.Figure at 0x7fb2eaf07f60>"
      ]
     },
     "metadata": {
      "needs_background": "light"
     },
     "output_type": "display_data"
    },
    {
     "name": "stdout",
     "output_type": "stream",
     "text": [
      "Answer 2:  10645 seconds elapsed\n"
     ]
    }
   ],
   "source": [
    "extracted_points = [extract_point(l) for l in open('input.txt','r').readlines()]\n",
    "point_frame = pd.DataFrame.from_dict(extracted_points)\n",
    "max_line_weight = 0\n",
    "min_distance = 100000\n",
    "seconds_waited = 0\n",
    "for i in range(25):\n",
    "    line_weight = get_line_weight(point_frame)\n",
    "    avg_distance = get_average_distance(point_frame)\n",
    "    if avg_distance < min_distance:\n",
    "        min_distance = avg_distance\n",
    "        if line_weight > max_line_weight and line_weight > .25:\n",
    "            plot_points(point_frame)\n",
    "            max_line_weight = line_weight\n",
    "            final_seconds = seconds_waited\n",
    "    speedup_factor = int(min_distance // 10 + 1)\n",
    "    seconds_waited += speedup_factor\n",
    "    update_point_locations(point_frame,speedup_factor)\n",
    "print('Answer 1:')\n",
    "plt.show()\n",
    "print('Answer 2: ',final_seconds,'seconds elapsed')"
   ]
  }
 ],
 "metadata": {
  "kernelspec": {
   "display_name": "Python 3",
   "language": "python",
   "name": "python3"
  },
  "language_info": {
   "codemirror_mode": {
    "name": "ipython",
    "version": 3
   },
   "file_extension": ".py",
   "mimetype": "text/x-python",
   "name": "python",
   "nbconvert_exporter": "python",
   "pygments_lexer": "ipython3",
   "version": "3.6.2"
  }
 },
 "nbformat": 4,
 "nbformat_minor": 2
}
